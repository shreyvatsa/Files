{
 "cells": [
  {
   "cell_type": "markdown",
   "id": "9c93221b-0ce2-422f-84fa-3f308540a461",
   "metadata": {},
   "source": [
    "## Answer 3\n",
    "Data types in Python and and their methords "
   ]
  },
  {
   "cell_type": "markdown",
   "id": "652ec006-918b-4297-85e7-9ec997b627a4",
   "metadata": {},
   "source": [
    "#### String"
   ]
  },
  {
   "cell_type": "code",
   "execution_count": 1,
   "id": "f337bcf2-13d5-4a4c-ab83-73fa729c0130",
   "metadata": {},
   "outputs": [],
   "source": [
    "# STRING\n",
    "\n",
    "# Strings are arrays of bytes representing unicode charecters.\n",
    "# It can hold all thpes of format, namely text, syombols, integets, float, etc.\n",
    "# Data in string is always enclosed in single, double or tripple inverted commas.\n",
    "# It is immutable data type"
   ]
  },
  {
   "cell_type": "code",
   "execution_count": 16,
   "id": "c63106ac-9eb6-4272-8942-468356d7a61e",
   "metadata": {},
   "outputs": [],
   "source": [
    "# Example of string\n",
    "\n",
    "a1 = 'jai Jagannath'"
   ]
  },
  {
   "cell_type": "code",
   "execution_count": 24,
   "id": "1d9f53f0-7525-40c1-8da4-57af496d1b92",
   "metadata": {},
   "outputs": [],
   "source": [
    "# Methords of string"
   ]
  },
  {
   "cell_type": "code",
   "execution_count": 17,
   "id": "70fad27b-4e54-4deb-83db-7537b0f2d23f",
   "metadata": {},
   "outputs": [
    {
     "name": "stdout",
     "output_type": "stream",
     "text": [
      "Jai jagannath\n"
     ]
    }
   ],
   "source": [
    "# Capitalize:- Makes the first letter capital\n",
    "\n",
    "b1 = a1.capitalize()\n",
    "print(b1)"
   ]
  },
  {
   "cell_type": "code",
   "execution_count": 19,
   "id": "162fd38c-2317-43be-b123-2dbea9350b0c",
   "metadata": {},
   "outputs": [
    {
     "data": {
      "text/plain": [
       "8"
      ]
     },
     "execution_count": 19,
     "metadata": {},
     "output_type": "execute_result"
    }
   ],
   "source": [
    "# find:- finds a particular charecter\n",
    "\n",
    "b1.find('n')"
   ]
  },
  {
   "cell_type": "code",
   "execution_count": 21,
   "id": "ea1e6f7e-38ee-42bf-aa5a-68c3767f9277",
   "metadata": {},
   "outputs": [
    {
     "data": {
      "text/plain": [
       "8"
      ]
     },
     "execution_count": 21,
     "metadata": {},
     "output_type": "execute_result"
    }
   ],
   "source": [
    "# count:- counts a given charecter\n",
    "\n",
    "b1.find('n')"
   ]
  },
  {
   "cell_type": "code",
   "execution_count": 22,
   "id": "e69b502d-70ea-4c75-bfa2-b29db21bc215",
   "metadata": {},
   "outputs": [
    {
     "data": {
      "text/plain": [
       "2"
      ]
     },
     "execution_count": 22,
     "metadata": {},
     "output_type": "execute_result"
    }
   ],
   "source": [
    "# endswith:- checks if the string ends with a particulat charecter\n",
    "\n",
    "b1.count('n')"
   ]
  },
  {
   "cell_type": "code",
   "execution_count": 23,
   "id": "468e5ff0-2bce-45da-9a87-0b8424cf0aa1",
   "metadata": {},
   "outputs": [
    {
     "data": {
      "text/plain": [
       "False"
      ]
     },
     "execution_count": 23,
     "metadata": {},
     "output_type": "execute_result"
    }
   ],
   "source": [
    "# isalpha:- checks if all the charecters of string is alphabet\n",
    "\n",
    "b1.isalpha()"
   ]
  },
  {
   "cell_type": "code",
   "execution_count": null,
   "id": "a065ac06-25a7-4379-8c05-e3a8ff77ea1d",
   "metadata": {},
   "outputs": [],
   "source": []
  },
  {
   "cell_type": "markdown",
   "id": "43242bec-6fbe-45ce-b554-4aa4e705c6c7",
   "metadata": {},
   "source": [
    "#### List"
   ]
  },
  {
   "cell_type": "code",
   "execution_count": 25,
   "id": "7add7e08-120e-4242-876c-29d8cfdd9eb2",
   "metadata": {},
   "outputs": [],
   "source": [
    "a2 = ['laptop','fan','table','phone','32','56-3j']"
   ]
  },
  {
   "cell_type": "code",
   "execution_count": 42,
   "id": "a6215e6e-8e74-497d-929d-6deedbc82966",
   "metadata": {},
   "outputs": [],
   "source": [
    "# Contains elements seperated by comma inside square bracket.\n",
    "# These elements can be any data type.\n",
    "# Mutable data type."
   ]
  },
  {
   "cell_type": "code",
   "execution_count": 27,
   "id": "d742673c-3d5f-4181-9e87-c10cc74bfc2c",
   "metadata": {},
   "outputs": [],
   "source": [
    "# Methords of list"
   ]
  },
  {
   "cell_type": "code",
   "execution_count": 29,
   "id": "432c0875-3cf8-40a0-a3d4-d95af2f24095",
   "metadata": {},
   "outputs": [
    {
     "name": "stdout",
     "output_type": "stream",
     "text": [
      "['laptop', 'fan', 'table', 'phone', '32', '56-3j', 'pen']\n"
     ]
    }
   ],
   "source": [
    "# append:- adds element to list\n",
    "\n",
    "a2.append('pen')\n",
    "print(a2)"
   ]
  },
  {
   "cell_type": "code",
   "execution_count": 30,
   "id": "1b6c60ca-2fd3-43ae-b0b5-0db4d95a167c",
   "metadata": {},
   "outputs": [
    {
     "data": {
      "text/plain": [
       "1"
      ]
     },
     "execution_count": 30,
     "metadata": {},
     "output_type": "execute_result"
    }
   ],
   "source": [
    "# index:- gives index position of element\n",
    "\n",
    "a2.index('fan')"
   ]
  },
  {
   "cell_type": "code",
   "execution_count": 31,
   "id": "7cdd567f-d1a4-427c-846e-9c9e268157f9",
   "metadata": {},
   "outputs": [
    {
     "data": {
      "text/plain": [
       "1"
      ]
     },
     "execution_count": 31,
     "metadata": {},
     "output_type": "execute_result"
    }
   ],
   "source": [
    "# count:- counts the number of repetition od an element in the list\n",
    "\n",
    "a2.count('pen')"
   ]
  },
  {
   "cell_type": "code",
   "execution_count": 39,
   "id": "b95ac7a3-d2a1-4452-87d4-22fcc7cd8da8",
   "metadata": {},
   "outputs": [
    {
     "name": "stdout",
     "output_type": "stream",
     "text": [
      "['laptop', 'fan', 'table', 'phone', '32', 'watch', 'watch', 'watch', '56-3j', 'pen']\n"
     ]
    }
   ],
   "source": [
    "# insert:- adds element on a particular position\n",
    "\n",
    "a2.insert(5,\"watch\")\n",
    "print(a2)\n",
    "\n",
    "# run three times"
   ]
  },
  {
   "cell_type": "code",
   "execution_count": 40,
   "id": "60676292-f9ff-4ad0-a3e4-1002ba4862e1",
   "metadata": {},
   "outputs": [
    {
     "name": "stdout",
     "output_type": "stream",
     "text": [
      "['laptop', 'fan', 'table', 'phone', '32', 'watch', 'watch', '56-3j', 'pen']\n"
     ]
    }
   ],
   "source": [
    "# pop:- pop elements out fromspecified position\n",
    "\n",
    "a2.pop(5)\n",
    "print(a2)"
   ]
  },
  {
   "cell_type": "code",
   "execution_count": null,
   "id": "ee7260c6-5d43-4fbb-b7f5-0a5684d217e2",
   "metadata": {},
   "outputs": [],
   "source": []
  },
  {
   "cell_type": "markdown",
   "id": "82d526eb-96d7-43b6-871e-8c7d124fa99b",
   "metadata": {},
   "source": [
    "#### Set"
   ]
  },
  {
   "cell_type": "code",
   "execution_count": 41,
   "id": "4d499178-f2c0-4271-ba32-7ad962ecf631",
   "metadata": {},
   "outputs": [],
   "source": [
    "a3 = {23,45,67,89,98,76,54,31,64,8,4,86,86,'abc','def','ghi'}"
   ]
  },
  {
   "cell_type": "code",
   "execution_count": 43,
   "id": "776f6740-efd0-4e51-b345-6d8138454531",
   "metadata": {},
   "outputs": [],
   "source": [
    "# Elements inside curly brackets.\n",
    "# Repetitive elements are omitted.\n",
    "# unordered collection of elements."
   ]
  },
  {
   "cell_type": "code",
   "execution_count": 44,
   "id": "321cf2f5-f071-4f09-8681-ca5a5d2bb514",
   "metadata": {},
   "outputs": [
    {
     "name": "stdout",
     "output_type": "stream",
     "text": [
      "{64, 98, 67, 4, 8, 76, 45, 'abc', 54, 23, 86, 89, 'def', 'ghi', 31}\n"
     ]
    }
   ],
   "source": [
    "print(a3)"
   ]
  },
  {
   "cell_type": "code",
   "execution_count": 45,
   "id": "19a2e7ee-2b21-46ac-bbf2-fecd83ea1da4",
   "metadata": {},
   "outputs": [],
   "source": [
    "# Methords of sets"
   ]
  },
  {
   "cell_type": "code",
   "execution_count": 46,
   "id": "83feaf12-07a2-4617-923f-c9a70fa87507",
   "metadata": {},
   "outputs": [],
   "source": [
    "# add:- adds elements\n",
    "\n",
    "a3.add('i am giving test')"
   ]
  },
  {
   "cell_type": "code",
   "execution_count": 47,
   "id": "22ae39bc-6f42-45c8-a6e7-ba7efd83cf9a",
   "metadata": {},
   "outputs": [
    {
     "name": "stdout",
     "output_type": "stream",
     "text": [
      "{64, 98, 67, 4, 8, 76, 45, 'abc', 54, 23, 86, 89, 'def', 'i am giving test', 'ghi', 31}\n"
     ]
    }
   ],
   "source": [
    "print(a3)"
   ]
  },
  {
   "cell_type": "code",
   "execution_count": 50,
   "id": "e20ab86a-5f54-4c49-826f-87f37ebedfc2",
   "metadata": {},
   "outputs": [
    {
     "data": {
      "text/plain": [
       "98"
      ]
     },
     "execution_count": 50,
     "metadata": {},
     "output_type": "execute_result"
    }
   ],
   "source": [
    "# pop:- removes elements from set\n",
    "a3.pop()"
   ]
  },
  {
   "cell_type": "code",
   "execution_count": 55,
   "id": "0f946931-0445-4403-be29-98c216da26f3",
   "metadata": {},
   "outputs": [],
   "source": [
    "# discard:- removes specified elements from set\n",
    "\n",
    "a3.discard('def')"
   ]
  },
  {
   "cell_type": "code",
   "execution_count": 56,
   "id": "4a365cd4-a061-4425-8716-90e80b605ae3",
   "metadata": {},
   "outputs": [
    {
     "name": "stdout",
     "output_type": "stream",
     "text": [
      "{67, 4, 8, 76, 45, 'abc', 54, 23, 86, 89, 'i am giving test', 'ghi', 31}\n"
     ]
    }
   ],
   "source": [
    "print(a3)"
   ]
  },
  {
   "cell_type": "code",
   "execution_count": 59,
   "id": "5b27eaff-14ce-481c-afe3-e1cb8f32fbf5",
   "metadata": {},
   "outputs": [
    {
     "name": "stdout",
     "output_type": "stream",
     "text": [
      "{67, 4, 8, 76, 45, 'abc', 54, 23, 86, 89, 'i am giving test', 31}\n"
     ]
    }
   ],
   "source": [
    "# copy:- makes shallow copy of set\n",
    "\n",
    "b3 = a3.copy()\n",
    "print(b3)"
   ]
  },
  {
   "cell_type": "code",
   "execution_count": 60,
   "id": "9dbf969a-7619-46c0-baee-7d40383cf436",
   "metadata": {},
   "outputs": [
    {
     "name": "stdout",
     "output_type": "stream",
     "text": [
      "{67, 4, 8, 76, 45, 54, 23, 86, 89, 'i am giving test', 31}\n",
      "{67, 4, 8, 76, 45, 'abc', 54, 23, 86, 89, 'i am giving test', 31}\n"
     ]
    }
   ],
   "source": [
    "# remove:- removes given element form set\n",
    "\n",
    "b3.remove('abc')\n",
    "print(b3)\n",
    "print(a3)"
   ]
  },
  {
   "cell_type": "code",
   "execution_count": 61,
   "id": "84666bfd-ab8a-4427-8f06-44a8479b619a",
   "metadata": {},
   "outputs": [],
   "source": [
    "# changes in b3 are not done in a3 as they are shallow copy."
   ]
  },
  {
   "cell_type": "code",
   "execution_count": null,
   "id": "912ceb2f-e6ab-425c-b213-5bf94a7df2fe",
   "metadata": {},
   "outputs": [],
   "source": []
  },
  {
   "cell_type": "markdown",
   "id": "078a9840-daf3-4560-9527-b7cedc555421",
   "metadata": {},
   "source": [
    "#### Tuple"
   ]
  },
  {
   "cell_type": "code",
   "execution_count": 62,
   "id": "9ab58c34-2fe7-4d91-b6f2-acfb677798c6",
   "metadata": {},
   "outputs": [],
   "source": [
    "a4 = (1,2,3,4,5,6,7,8,9,10)"
   ]
  },
  {
   "cell_type": "code",
   "execution_count": 63,
   "id": "6c60f214-b859-4aff-a13c-47a2010576d6",
   "metadata": {},
   "outputs": [],
   "source": [
    "# Ordered collection.\n",
    "# Elements are in round brackets.\n",
    "# It is immutable data type."
   ]
  },
  {
   "cell_type": "code",
   "execution_count": 64,
   "id": "5d9a3a3a-4032-4c4c-b2f5-888b7f33f335",
   "metadata": {},
   "outputs": [],
   "source": [
    "# Methords"
   ]
  },
  {
   "cell_type": "code",
   "execution_count": 66,
   "id": "1481c716-bba0-4748-bcea-6a1895e45d0e",
   "metadata": {},
   "outputs": [
    {
     "data": {
      "text/plain": [
       "1"
      ]
     },
     "execution_count": 66,
     "metadata": {},
     "output_type": "execute_result"
    }
   ],
   "source": [
    "# count():- conts the repetition.\n",
    "\n",
    "a4.count(5)"
   ]
  },
  {
   "cell_type": "code",
   "execution_count": null,
   "id": "837b1f20-6ab1-42a7-a485-800b09502f35",
   "metadata": {},
   "outputs": [],
   "source": []
  },
  {
   "cell_type": "markdown",
   "id": "6e389346-68c4-42aa-98e4-584058a85e0a",
   "metadata": {},
   "source": [
    "#### Dictonary"
   ]
  },
  {
   "cell_type": "code",
   "execution_count": 68,
   "id": "af84753b-1c34-4de8-9c9a-814ea846b4dd",
   "metadata": {},
   "outputs": [],
   "source": [
    "a5 = {'a':'1,2,3',\n",
    "        'b':'4,5,6',\n",
    "        'c':'7,8,9'\n",
    "                    }"
   ]
  },
  {
   "cell_type": "code",
   "execution_count": 69,
   "id": "4823ce92-50da-4703-acc0-70f86feea2d9",
   "metadata": {},
   "outputs": [],
   "source": [
    "# Methords"
   ]
  },
  {
   "cell_type": "code",
   "execution_count": 70,
   "id": "29d7a2e1-00b9-4778-8831-83de52ab4d8e",
   "metadata": {},
   "outputs": [
    {
     "name": "stdout",
     "output_type": "stream",
     "text": [
      "{'a': '1,2,3', 'b': '4,5,6', 'c': '7,8,9'}\n"
     ]
    }
   ],
   "source": [
    "# copy:- makes shallow copy of dict\n",
    "\n",
    "b5 = a5.copy()\n",
    "print(b5)"
   ]
  },
  {
   "cell_type": "code",
   "execution_count": 72,
   "id": "8d597da9-47ab-4753-94b1-4e46b7fa81c4",
   "metadata": {},
   "outputs": [
    {
     "data": {
      "text/plain": [
       "'1,2,3'"
      ]
     },
     "execution_count": 72,
     "metadata": {},
     "output_type": "execute_result"
    }
   ],
   "source": [
    "# get:- to get the values of a key\n",
    "\n",
    "b5.get('a')"
   ]
  },
  {
   "cell_type": "code",
   "execution_count": 73,
   "id": "f1c271dd-348e-44cc-8218-8d8f33e9c6b2",
   "metadata": {},
   "outputs": [
    {
     "name": "stdout",
     "output_type": "stream",
     "text": [
      "{'a': '1,2,3', 'b': '4,5,6'}\n"
     ]
    }
   ],
   "source": [
    "# pop:- removes elements in a key\n",
    "\n",
    "b5.pop('c')\n",
    "print(b5)"
   ]
  },
  {
   "cell_type": "code",
   "execution_count": 74,
   "id": "97cf1fa6-fed7-4ddf-bdd9-d1757086e199",
   "metadata": {},
   "outputs": [
    {
     "data": {
      "text/plain": [
       "dict_items([('a', '1,2,3'), ('b', '4,5,6')])"
      ]
     },
     "execution_count": 74,
     "metadata": {},
     "output_type": "execute_result"
    }
   ],
   "source": [
    "# items:- gives items in key\n",
    "\n",
    "b5.items()"
   ]
  },
  {
   "cell_type": "code",
   "execution_count": 75,
   "id": "80ad88e2-760d-41fc-a5e6-48e0b897ffdd",
   "metadata": {},
   "outputs": [
    {
     "name": "stdout",
     "output_type": "stream",
     "text": [
      "{'a': '1,2,3', 'b': '4,5,6', 'c': '7,8,9'}\n"
     ]
    }
   ],
   "source": [
    "print(a5)"
   ]
  },
  {
   "cell_type": "code",
   "execution_count": 76,
   "id": "26d8d9b3-c5d3-4ccf-bf1f-92f38c77fcc3",
   "metadata": {},
   "outputs": [],
   "source": [
    "# As a5 and b5 are shallow copy, changes in b5 did not reflect in a5."
   ]
  },
  {
   "cell_type": "code",
   "execution_count": null,
   "id": "548e2b49-47d9-4f05-a37a-61fe3823d1bf",
   "metadata": {},
   "outputs": [],
   "source": []
  },
  {
   "cell_type": "code",
   "execution_count": null,
   "id": "5c194405-5470-48ec-8788-622207043e5a",
   "metadata": {},
   "outputs": [],
   "source": []
  },
  {
   "cell_type": "code",
   "execution_count": null,
   "id": "6929f346-1163-436c-a2ce-1a1416dd25d1",
   "metadata": {},
   "outputs": [],
   "source": []
  },
  {
   "cell_type": "markdown",
   "id": "588d7a05-154d-4467-b6c1-2925127f0657",
   "metadata": {},
   "source": [
    "## Answer 4\n",
    "Code to take names address and salary input and convert to data frame."
   ]
  },
  {
   "cell_type": "code",
   "execution_count": 78,
   "id": "400d6c34-08e9-4606-afe6-da3d8c4f1191",
   "metadata": {},
   "outputs": [],
   "source": [
    "# Details = {'Names':[],'Address':[],'Salary':[]}\n",
    "\n",
    "# n = int('Number of employees')\n",
    "\n",
    "# for i in range(n):\n",
    "#     name = Details.Names"
   ]
  },
  {
   "cell_type": "code",
   "execution_count": null,
   "id": "e83d760d-9fae-4372-8917-d89a3664331d",
   "metadata": {},
   "outputs": [],
   "source": []
  },
  {
   "cell_type": "code",
   "execution_count": null,
   "id": "0315f853-b38c-4306-83a1-59071ab88d35",
   "metadata": {},
   "outputs": [],
   "source": []
  },
  {
   "cell_type": "code",
   "execution_count": null,
   "id": "d2570505-687d-48b1-878c-0b3d160e4c9a",
   "metadata": {},
   "outputs": [],
   "source": []
  },
  {
   "cell_type": "markdown",
   "id": "ff5925f9-2079-451b-8a1c-1442db1511d9",
   "metadata": {},
   "source": [
    "#### Answer 6\n",
    "Function to reurn prime numbers in a given range."
   ]
  },
  {
   "cell_type": "code",
   "execution_count": 93,
   "id": "243a4a81-8bf0-471f-9a68-c9409b247bc4",
   "metadata": {},
   "outputs": [],
   "source": [
    "def prime(n1,n2):\n",
    "    Numbers = []\n",
    "    for i in range(n1,n2+1):\n",
    "        for j in range(2,i-1):\n",
    "            if i%j==0:\n",
    "                break\n",
    "            else:\n",
    "                Numbers.append(i)\n",
    "    print(set(Numbers))"
   ]
  },
  {
   "cell_type": "code",
   "execution_count": 94,
   "id": "c85e8375-6ba6-4bed-ad5c-959d123c98cc",
   "metadata": {},
   "outputs": [
    {
     "name": "stdout",
     "output_type": "stream",
     "text": [
      "{5, 7, 9, 11, 13, 15, 17, 19, 21, 23, 25, 27, 29, 31, 33, 35, 37, 39, 41, 43, 45, 47, 49, 51, 53, 55, 57, 59, 61, 63, 65, 67, 69, 71, 73, 75, 77, 79, 81, 83, 85, 87, 89, 91, 93, 95, 97, 99}\n"
     ]
    }
   ],
   "source": [
    "prime(2,100)"
   ]
  },
  {
   "cell_type": "code",
   "execution_count": null,
   "id": "c2b31089-ed2a-464c-822e-e1321f494395",
   "metadata": {},
   "outputs": [],
   "source": []
  },
  {
   "cell_type": "code",
   "execution_count": null,
   "id": "542dc0d8-fdc0-40b2-89ba-057f9a8a22ad",
   "metadata": {},
   "outputs": [],
   "source": []
  },
  {
   "cell_type": "code",
   "execution_count": null,
   "id": "bbd6e30f-da8d-4c13-a09b-2f40f162d1c2",
   "metadata": {},
   "outputs": [],
   "source": []
  },
  {
   "cell_type": "markdown",
   "id": "0aec7c1d-9450-444b-9073-bba0cdbab695",
   "metadata": {},
   "source": [
    "#### Answer 7\n",
    "Finding common elements in list"
   ]
  },
  {
   "cell_type": "code",
   "execution_count": 97,
   "id": "ab9dc5fe-2565-4893-83b5-0c517ecbb0e2",
   "metadata": {},
   "outputs": [],
   "source": [
    "# Given list\n",
    "\n",
    "list_1 = [12,3,13,25,467]\n",
    "list_2 = [12,343,13,214,345]\n",
    "list_3 = [12,13,235,43,24,36]"
   ]
  },
  {
   "cell_type": "code",
   "execution_count": 105,
   "id": "09cc2c94-aea4-47ae-8920-7b5a8009480a",
   "metadata": {},
   "outputs": [
    {
     "name": "stdout",
     "output_type": "stream",
     "text": [
      "[12, 13]\n"
     ]
    }
   ],
   "source": [
    "# Using for loop:-\n",
    "\n",
    "common = []\n",
    "\n",
    "for i in list_1:\n",
    "    for j in list_2:\n",
    "        for k in list_3:\n",
    "            if k==j==i:\n",
    "                common.append(i)\n",
    "\n",
    "print(common)"
   ]
  },
  {
   "cell_type": "code",
   "execution_count": null,
   "id": "e21f1ec3-e834-4295-8472-65de31e3ec87",
   "metadata": {},
   "outputs": [],
   "source": []
  },
  {
   "cell_type": "code",
   "execution_count": 119,
   "id": "ff22cb79-afcc-4cc3-bc54-54f213bfcab1",
   "metadata": {},
   "outputs": [
    {
     "name": "stdout",
     "output_type": "stream",
     "text": [
      "{12, 13}\n"
     ]
    }
   ],
   "source": [
    "# Without loop:-\n",
    "\n",
    "set_l1 = set(list_1)\n",
    "set_l2 = set(list_2)\n",
    "set_l3 = set(list_3)\n",
    "\n",
    "I1 = set_l1.intersection(set_l2)\n",
    "\n",
    "Common_elmts = set_l3.intersection(I1)\n",
    "\n",
    "print(Common_elmts)"
   ]
  },
  {
   "cell_type": "code",
   "execution_count": null,
   "id": "97741846-2b68-47b0-baf0-945b35c7d1a8",
   "metadata": {},
   "outputs": [],
   "source": []
  },
  {
   "cell_type": "code",
   "execution_count": null,
   "id": "b2506f98-c7c7-4c1e-bd77-aa73e7542273",
   "metadata": {},
   "outputs": [],
   "source": []
  },
  {
   "cell_type": "code",
   "execution_count": null,
   "id": "9c937f55-ae4e-438e-b6fa-6ab1e93e5d5d",
   "metadata": {},
   "outputs": [],
   "source": []
  },
  {
   "cell_type": "markdown",
   "id": "98dac878-d893-4018-8552-b84024e9e63f",
   "metadata": {},
   "source": [
    "#### Answer 9\n",
    "Diff bet deep shallow copy and deep copy"
   ]
  },
  {
   "cell_type": "code",
   "execution_count": 120,
   "id": "0f10ccba-a512-480f-969d-7a6174bb18ac",
   "metadata": {},
   "outputs": [],
   "source": [
    "# Deep Copy\n",
    "\n",
    "# In deep copy, both are same.\n",
    "# Changes made in one is reflected in other"
   ]
  },
  {
   "cell_type": "code",
   "execution_count": 131,
   "id": "ae6b886a-4811-4c41-87b4-f9fd45bcdb9e",
   "metadata": {},
   "outputs": [],
   "source": [
    "a_6 = [1,2,3,4,5]"
   ]
  },
  {
   "cell_type": "code",
   "execution_count": 132,
   "id": "faa49415-5630-4002-adb2-d6433ba1f38d",
   "metadata": {},
   "outputs": [],
   "source": [
    "b_6 = a_6"
   ]
  },
  {
   "cell_type": "code",
   "execution_count": 133,
   "id": "6eda5408-1f59-470a-80fb-57b2e5444de1",
   "metadata": {},
   "outputs": [],
   "source": [
    "c_6 = a_6.copy()"
   ]
  },
  {
   "cell_type": "code",
   "execution_count": 134,
   "id": "ca03da27-fa3a-45b2-b97e-8258ca062ac9",
   "metadata": {},
   "outputs": [],
   "source": [
    "# With the use of '=' we make b_6 a deep copy 0f a_6. Now changed in one will also reflect in other.\n",
    "# With the use of '.copy()', a shalloy copy is made, and changes in a_6 will not change c_6."
   ]
  },
  {
   "cell_type": "code",
   "execution_count": 135,
   "id": "0131f284-b0ef-4912-bb5f-e203ac3216f4",
   "metadata": {},
   "outputs": [
    {
     "name": "stdout",
     "output_type": "stream",
     "text": [
      "[1, 2, 3, 4, 5, 99]\n",
      "[1, 2, 3, 4, 5, 99]\n",
      "[1, 2, 3, 4, 5]\n"
     ]
    }
   ],
   "source": [
    "a_6.append(99)\n",
    "\n",
    "print(a_6)\n",
    "print(b_6)\n",
    "print(c_6)"
   ]
  },
  {
   "cell_type": "code",
   "execution_count": null,
   "id": "8bec2514-16a9-48e8-a802-51da873c3972",
   "metadata": {},
   "outputs": [],
   "source": []
  },
  {
   "cell_type": "code",
   "execution_count": null,
   "id": "fcedb77b-cebc-47fc-a893-06365415b1f4",
   "metadata": {},
   "outputs": [],
   "source": []
  },
  {
   "cell_type": "code",
   "execution_count": null,
   "id": "daddcd38-fa4c-4df3-9e9e-839464c0e54b",
   "metadata": {},
   "outputs": [],
   "source": []
  },
  {
   "cell_type": "markdown",
   "id": "7c8fdac9-3a82-4362-9aaf-4b34c98e95f3",
   "metadata": {},
   "source": [
    "#### Answer 10\n",
    "function to check anagram."
   ]
  },
  {
   "cell_type": "code",
   "execution_count": 136,
   "id": "797c7f2d-14cb-4df0-a18b-3173036eb1cc",
   "metadata": {},
   "outputs": [],
   "source": [
    "def check_anagram(word1:'str',\n",
    "                 word2: 'str'):\n",
    "    '''This function checks is words are anagram'''\n",
    "    data_1 = {}\n",
    "    data_2 = {}\n",
    "    for i in word1:\n",
    "        data_1[i] = word1.count(i)\n",
    "\n",
    "    for j in word2:\n",
    "        data_2[j] = word2.count(j)\n",
    "\n",
    "    if data_1 == data_2:\n",
    "        print(f'{word1} and {word2} are anagram')\n",
    "    else:\n",
    "        print(f'{word1} and {word2} are not anagram')"
   ]
  },
  {
   "cell_type": "code",
   "execution_count": 137,
   "id": "0b1f3e6e-a656-491d-b75d-90898eb86eec",
   "metadata": {},
   "outputs": [
    {
     "name": "stdout",
     "output_type": "stream",
     "text": [
      "earth and heart are anagram\n"
     ]
    }
   ],
   "source": [
    "check_anagram('earth','heart')"
   ]
  },
  {
   "cell_type": "code",
   "execution_count": null,
   "id": "6375e9ae-559b-45a0-a652-2225f949102f",
   "metadata": {},
   "outputs": [],
   "source": []
  },
  {
   "cell_type": "code",
   "execution_count": null,
   "id": "0ebe6bf6-5de4-4415-968a-944e73959814",
   "metadata": {},
   "outputs": [],
   "source": []
  },
  {
   "cell_type": "code",
   "execution_count": null,
   "id": "49caacb2-6c3f-4acf-832f-dbac91cdf7cc",
   "metadata": {},
   "outputs": [],
   "source": []
  },
  {
   "cell_type": "markdown",
   "id": "31181a82-5fa4-4d86-a820-019d7a4ca9a9",
   "metadata": {},
   "source": [
    "#### Answer 14\n",
    "Global, Local, Non-Local"
   ]
  },
  {
   "cell_type": "markdown",
   "id": "64f228f3-ecc6-405f-bcef-c749ec2086dc",
   "metadata": {},
   "source": [
    "##### Local variable"
   ]
  },
  {
   "cell_type": "code",
   "execution_count": 152,
   "id": "4bb933e6-821b-4c45-9d08-9822ffae631c",
   "metadata": {},
   "outputs": [],
   "source": [
    "# For Example:-\n",
    "\n",
    "def info():\n",
    "    name = 'Ajay' # local variable\n",
    "    print(f'Hello {name}')\n",
    "\n",
    "# In this example, we cannot seperately call name."
   ]
  },
  {
   "cell_type": "code",
   "execution_count": 153,
   "id": "42686d7c-1db6-49b4-be5b-bc5d41df9328",
   "metadata": {},
   "outputs": [],
   "source": [
    "# So, when we require to use that variable outside the function, we make it a global variable."
   ]
  },
  {
   "cell_type": "code",
   "execution_count": null,
   "id": "20247161-fb14-4a02-a5e7-66a8472b66b1",
   "metadata": {},
   "outputs": [],
   "source": []
  },
  {
   "cell_type": "markdown",
   "id": "011b7660-5cbf-4728-afcb-b98fe704feec",
   "metadata": {},
   "source": [
    "##### Global variable\n",
    "Global variable is the variable which can be used anywhere outside the function."
   ]
  },
  {
   "cell_type": "code",
   "execution_count": 154,
   "id": "4cd71a21-9a77-4817-9401-beb61214087c",
   "metadata": {},
   "outputs": [],
   "source": [
    "# To make a global variable, we write global with the variable.\n",
    "\n",
    "# For example, take_name has been made a global variable.\n",
    "\n",
    "def say_hello():\n",
    "    global take_name\n",
    "    \n",
    "    take_name = 'Kumar Verma'\n",
    "    \n",
    "    print(f'Hello {take_name}')\n",
    "\n",
    "\n",
    "# Now we can call take_name seperately."
   ]
  },
  {
   "cell_type": "code",
   "execution_count": 141,
   "id": "7c236b00-95c8-4ebc-af74-d1603ae10b44",
   "metadata": {},
   "outputs": [],
   "source": [
    "# For multiple global variables, we have two approaches\n",
    "\n",
    "# def say_hello():\n",
    "#     global take_name, age ,height\n",
    "#     take_name = 'Kumar Verma'\n",
    "#     age = 21\n",
    "#     height = 345\n",
    "#     \n",
    "#     print(f'Hello {take_name}')"
   ]
  },
  {
   "cell_type": "code",
   "execution_count": 142,
   "id": "861c460a-1c46-480f-a050-fc24b2ce13e0",
   "metadata": {},
   "outputs": [],
   "source": [
    "def say_hello():\n",
    "    global take_name\n",
    "    global age\n",
    "    global height\n",
    "    take_name = 'Kumar Verma'\n",
    "    age = 21\n",
    "    height = 345\n",
    "    \n",
    "    print(f'Hello {take_name}')\n",
    "\n",
    "\n",
    "# This mechord of writing global again and again is preffered for clarity."
   ]
  },
  {
   "cell_type": "code",
   "execution_count": 143,
   "id": "5d6e1b5e-2f99-4a79-96fe-21b18b90edfe",
   "metadata": {},
   "outputs": [
    {
     "name": "stdout",
     "output_type": "stream",
     "text": [
      "First Line:  India\n",
      "I Love My Nepal\n",
      "Second Line:  Nepal\n"
     ]
    }
   ],
   "source": [
    "# Use of making a vriable global in a function is to change the value of a existing global variable.\n",
    "\n",
    "# For example:-\n",
    "\n",
    "country = 'India'\n",
    "\n",
    "def about():\n",
    "    global country\n",
    "    country = 'Nepal'\n",
    "    print(f'I Love My {country}')\n",
    "    \n",
    "print('First Line: ',country)\n",
    "\n",
    "about()\n",
    "\n",
    "print('Second Line: ',country)\n",
    "\n",
    "\n",
    "# Here, a variable 'country' is defined outside the function, that makes it a global by default.\n",
    "# Now when we make a global variable under 'country' a function, and give it a value, the value of variable outside the function will also be updated. "
   ]
  },
  {
   "cell_type": "code",
   "execution_count": null,
   "id": "131483c5-ce09-46a1-8736-b54ffafd8a2d",
   "metadata": {},
   "outputs": [],
   "source": []
  },
  {
   "cell_type": "markdown",
   "id": "7fbe13d2-a576-410d-821a-72cab567dbe5",
   "metadata": {},
   "source": [
    "##### Non-Local"
   ]
  },
  {
   "cell_type": "code",
   "execution_count": 144,
   "id": "7184e0d2-ae51-4ff2-94c5-62ef0bf8808d",
   "metadata": {},
   "outputs": [],
   "source": [
    "# If we are using a variable defined in a function, in a nested function, and want the variable in nested function to become global within the funcion.\n",
    "# We can make it 'nonlocal'.\n",
    "# So that a variable in nested function also changes the variable in function outside nested function."
   ]
  },
  {
   "cell_type": "code",
   "execution_count": 145,
   "id": "3f367926-c650-49f4-a6b6-52c0668c7ae1",
   "metadata": {},
   "outputs": [],
   "source": [
    "def one():\n",
    "    country = 'India'\n",
    "    \n",
    "    print(f'I Love My {country} by one func')\n",
    "    \n",
    "    def two():\n",
    "        country = 'Nepal'\n",
    "        \n",
    "        print(f'I Love My {country} by two func')\n",
    "    \n",
    "    two()\n",
    "    print('First Line: ',country)"
   ]
  },
  {
   "cell_type": "code",
   "execution_count": 146,
   "id": "dc4087d0-8af9-48a7-a9f3-38ce231a7ffa",
   "metadata": {},
   "outputs": [
    {
     "name": "stdout",
     "output_type": "stream",
     "text": [
      "I Love My India by one func\n",
      "I Love My Nepal by two func\n",
      "First Line:  India\n"
     ]
    }
   ],
   "source": [
    "one()"
   ]
  },
  {
   "cell_type": "code",
   "execution_count": 147,
   "id": "c80f7174-8a80-495c-8e5a-3a4ff4825e12",
   "metadata": {},
   "outputs": [],
   "source": [
    "# Output is\n",
    "\n",
    "# I Love My India by one func\n",
    "# I Love My Nepal by two func\n",
    "# First Line:  India\n",
    "\n",
    "# Here we can see that in third line, we get 'India'.\n",
    "# because the value 'Nepal' is restricted to function two.\n",
    "# But to change the value of variable in function one, from inside function two, we make the variable in function two nonlocal"
   ]
  },
  {
   "cell_type": "code",
   "execution_count": 148,
   "id": "b7c38160-915a-4bf2-9ba8-9b0616ce32cf",
   "metadata": {},
   "outputs": [],
   "source": [
    "var = 3456\n",
    "\n",
    "def one():\n",
    "    \n",
    "    country = 'India'\n",
    "    \n",
    "    print(f'I Love My {country} by one func')\n",
    "    \n",
    "    def two():\n",
    "        nonlocal country\n",
    "        country = 'Nepal'\n",
    "        \n",
    "        print(f'I Love My {country} by two func')\n",
    "    \n",
    "    two()    \n",
    "    print('First Line: ',country)"
   ]
  },
  {
   "cell_type": "code",
   "execution_count": 149,
   "id": "e75e98c6-78aa-4a61-ac38-182a196a67b7",
   "metadata": {},
   "outputs": [
    {
     "name": "stdout",
     "output_type": "stream",
     "text": [
      "I Love My India by one func\n",
      "I Love My Nepal by two func\n",
      "First Line:  Nepal\n"
     ]
    }
   ],
   "source": [
    "one()"
   ]
  },
  {
   "cell_type": "code",
   "execution_count": 150,
   "id": "720ddeb6-aca0-4bd7-be9a-506ddcf8cd24",
   "metadata": {},
   "outputs": [],
   "source": [
    "# Output:-\n",
    "\n",
    "# I Love My India by one func\n",
    "# I Love My Nepal by two func\n",
    "# First Line:  Nepal\n",
    "\n",
    "# Here we can see that as we made the 'country' variable a nonlocal, it changed the value of variable in function one."
   ]
  },
  {
   "cell_type": "code",
   "execution_count": null,
   "id": "099c0bb5-4c10-4783-82c4-0d3aaf629ffd",
   "metadata": {},
   "outputs": [],
   "source": []
  },
  {
   "cell_type": "code",
   "execution_count": null,
   "id": "b3f0698d-1003-422e-8d4d-4ff3ef175b39",
   "metadata": {},
   "outputs": [],
   "source": []
  },
  {
   "cell_type": "code",
   "execution_count": null,
   "id": "7bafda75-aeca-4027-aca5-3f7018c5ddbd",
   "metadata": {},
   "outputs": [],
   "source": []
  },
  {
   "cell_type": "markdown",
   "id": "afe24f6d-9952-4608-8962-f471ab9c9e69",
   "metadata": {},
   "source": [
    "# Time Over"
   ]
  },
  {
   "cell_type": "code",
   "execution_count": null,
   "id": "1a8a521b-90c2-4d01-99ec-38720d784b69",
   "metadata": {},
   "outputs": [],
   "source": []
  }
 ],
 "metadata": {
  "kernelspec": {
   "display_name": "Python 3 (ipykernel)",
   "language": "python",
   "name": "python3"
  },
  "language_info": {
   "codemirror_mode": {
    "name": "ipython",
    "version": 3
   },
   "file_extension": ".py",
   "mimetype": "text/x-python",
   "name": "python",
   "nbconvert_exporter": "python",
   "pygments_lexer": "ipython3",
   "version": "3.11.7"
  }
 },
 "nbformat": 4,
 "nbformat_minor": 5
}
